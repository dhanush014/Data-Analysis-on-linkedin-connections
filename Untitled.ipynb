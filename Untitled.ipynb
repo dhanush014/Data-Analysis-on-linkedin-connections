{
 "cells": [
  {
   "cell_type": "code",
   "execution_count": 10,
   "id": "dd912893",
   "metadata": {},
   "outputs": [
    {
     "name": "stdout",
     "output_type": "stream",
     "text": [
      "Mohan - Product Manager - Cardinal Health - https://www.linkedin.com/in/mohanrprabhu10\n",
      "Sparsh - Product Manager - Tracxn - https://www.linkedin.com/in/sparshnarware\n",
      "Atish Kumar  - Product Manager - Living Icons - https://www.linkedin.com/in/atish-dash\n",
      "Narayanan - Product Manager - Xperi Inc. - https://www.linkedin.com/in/narayanan98\n",
      "Noopur - Product Manager - Microsoft - https://www.linkedin.com/in/noopur-vaishnav-a1a89b164\n",
      "Ramees - Product Manager - UST - https://www.linkedin.com/in/rameessalim\n",
      "Srabasti - Product Manager - Google - https://www.linkedin.com/in/srabastinandi\n",
      "Tanmay - Product Manager - Monexo - https://www.linkedin.com/in/tanmaydevsingh\n",
      "Shipra - Product Manager - Lenovo - https://www.linkedin.com/in/shipra-rajput-8bb848152\n",
      "Chetan Vasudeva - Product Manager - Kurated.ai - https://www.linkedin.com/in/chetan-vasudeva-talikoti-294a57168\n",
      "Indrani - Product Manager - Ninjacart - https://www.linkedin.com/in/indrani-r-560230a8\n",
      "Roshan Raj - Product Manager - Unstop  - https://www.linkedin.com/in/roshan-raj-mishra\n",
      "Ashutosh - Product Manager - InsideAIML - https://www.linkedin.com/in/ashuc98\n",
      "Abhishek - Product Manager - Mobile Premier League (MPL) - https://www.linkedin.com/in/abhishek-bhatt-209b1359\n",
      "Spoorthi - Product Manager - Citrix - https://www.linkedin.com/in/spoorthi-d-263491b7\n"
     ]
    }
   ],
   "source": [
    "import pandas as pd\n",
    "df = pd.read_csv(r'C:\\Users\\dhanu\\Desktop\\Exploratory Data Analysis\\Data sets\\LinkedinPersonalConnections.csv')\n",
    "#print(df.head())\n",
    "title_counts = df['Position'].value_counts()\n",
    "#print(title_counts)\n",
    "\n",
    "# Filter the DataFrame based on a particular position\n",
    "desired_position = \"Product Manager\"  # Change this to the position you're interested in\n",
    "filtered_df = df[df['Position'] == desired_position]\n",
    "names_positions = filtered_df[['First Name', 'Position','Company', 'URL']] \n",
    "# Print the names and positions next to each other\n",
    "for index, row in names_positions.iterrows():\n",
    "    print(row['First Name'], '-', row['Position'], '-',row['Company'], '-',row['URL'])"
   ]
  },
  {
   "cell_type": "code",
   "execution_count": null,
   "id": "81fd5e44",
   "metadata": {},
   "outputs": [],
   "source": []
  }
 ],
 "metadata": {
  "kernelspec": {
   "display_name": "Python 3 (ipykernel)",
   "language": "python",
   "name": "python3"
  },
  "language_info": {
   "codemirror_mode": {
    "name": "ipython",
    "version": 3
   },
   "file_extension": ".py",
   "mimetype": "text/x-python",
   "name": "python",
   "nbconvert_exporter": "python",
   "pygments_lexer": "ipython3",
   "version": "3.11.5"
  }
 },
 "nbformat": 4,
 "nbformat_minor": 5
}
